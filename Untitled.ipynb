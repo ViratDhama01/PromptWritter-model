{
 "cells": [
  {
   "cell_type": "code",
   "execution_count": 1,
   "id": "45e2f902-2f4f-49e2-8e14-ca0743a6bf18",
   "metadata": {},
   "outputs": [],
   "source": [
    "# Basic libraries\n",
    "import pandas as pd\n",
    "import numpy as np\n",
    "\n",
    "# For text vectorization and similarity\n",
    "from sklearn.feature_extraction.text import TfidfVectorizer\n",
    "from sklearn.metrics.pairwise import cosine_similarity"
   ]
  },
  {
   "cell_type": "code",
   "execution_count": 2,
   "id": "9a98ba0c-230e-44a2-8bf7-1efb057f28e4",
   "metadata": {},
   "outputs": [
    {
     "name": "stdout",
     "output_type": "stream",
     "text": [
      "Total prompts in dataset: 356\n"
     ]
    },
    {
     "data": {
      "text/html": [
       "<div>\n",
       "<style scoped>\n",
       "    .dataframe tbody tr th:only-of-type {\n",
       "        vertical-align: middle;\n",
       "    }\n",
       "\n",
       "    .dataframe tbody tr th {\n",
       "        vertical-align: top;\n",
       "    }\n",
       "\n",
       "    .dataframe thead th {\n",
       "        text-align: right;\n",
       "    }\n",
       "</style>\n",
       "<table border=\"1\" class=\"dataframe\">\n",
       "  <thead>\n",
       "    <tr style=\"text-align: right;\">\n",
       "      <th></th>\n",
       "      <th>act</th>\n",
       "      <th>prompt</th>\n",
       "    </tr>\n",
       "  </thead>\n",
       "  <tbody>\n",
       "    <tr>\n",
       "      <th>0</th>\n",
       "      <td>Lunatic</td>\n",
       "      <td>I want you to act as a lunatic. The lunatic's ...</td>\n",
       "    </tr>\n",
       "    <tr>\n",
       "      <th>1</th>\n",
       "      <td>Fill in the Blank Worksheets Generator</td>\n",
       "      <td>I want you to act as a fill in the blank works...</td>\n",
       "    </tr>\n",
       "    <tr>\n",
       "      <th>2</th>\n",
       "      <td>Personal Shopper</td>\n",
       "      <td>I want you to act as my personal shopper. I wi...</td>\n",
       "    </tr>\n",
       "    <tr>\n",
       "      <th>3</th>\n",
       "      <td>Math Teacher</td>\n",
       "      <td>I want you to act as a math teacher. I will pr...</td>\n",
       "    </tr>\n",
       "    <tr>\n",
       "      <th>4</th>\n",
       "      <td>Statistician</td>\n",
       "      <td>I want to act as a Statistician. I will provid...</td>\n",
       "    </tr>\n",
       "  </tbody>\n",
       "</table>\n",
       "</div>"
      ],
      "text/plain": [
       "                                      act  \\\n",
       "0                                 Lunatic   \n",
       "1  Fill in the Blank Worksheets Generator   \n",
       "2                        Personal Shopper   \n",
       "3                            Math Teacher   \n",
       "4                            Statistician   \n",
       "\n",
       "                                              prompt  \n",
       "0  I want you to act as a lunatic. The lunatic's ...  \n",
       "1  I want you to act as a fill in the blank works...  \n",
       "2  I want you to act as my personal shopper. I wi...  \n",
       "3  I want you to act as a math teacher. I will pr...  \n",
       "4  I want to act as a Statistician. I will provid...  "
      ]
     },
     "execution_count": 2,
     "metadata": {},
     "output_type": "execute_result"
    }
   ],
   "source": [
    "# Load both CSVs\n",
    "df1 = pd.read_csv(\"chatgpt_prompts.csv\")\n",
    "df2 = pd.read_csv(\"prompts.csv\")\n",
    "\n",
    "# Drop the extra unnamed column in df1\n",
    "df1 = df1.drop(columns=[\"Unnamed: 0\"], errors=\"ignore\")\n",
    "\n",
    "# Combine datasets\n",
    "df = pd.concat([df1, df2], ignore_index=True)\n",
    "\n",
    "# Shuffle the data\n",
    "df = df.sample(frac=1, random_state=42).reset_index(drop=True)\n",
    "\n",
    "print(\"Total prompts in dataset:\", len(df))\n",
    "df.head()"
   ]
  },
  {
   "cell_type": "code",
   "execution_count": 3,
   "id": "6d5d3273-257f-45a6-b910-5dfa85cc9286",
   "metadata": {},
   "outputs": [
    {
     "name": "stdout",
     "output_type": "stream",
     "text": [
      "Any missing values?\n",
      " act       0\n",
      "prompt    0\n",
      "dtype: int64\n"
     ]
    }
   ],
   "source": [
    "# Fill any missing values\n",
    "df[\"act\"] = df[\"act\"].fillna(\"\")\n",
    "df[\"prompt\"] = df[\"prompt\"].fillna(\"\")\n",
    "\n",
    "# Make sure text is string type\n",
    "df[\"act\"] = df[\"act\"].astype(str)\n",
    "df[\"prompt\"] = df[\"prompt\"].astype(str)\n",
    "\n",
    "print(\"Any missing values?\\n\", df.isnull().sum())"
   ]
  },
  {
   "cell_type": "code",
   "execution_count": 4,
   "id": "0c1e8ce9-8799-4ce3-9256-a62b8a53f9a9",
   "metadata": {},
   "outputs": [
    {
     "name": "stdout",
     "output_type": "stream",
     "text": [
      "Shape of TF-IDF Matrix: (356, 2669)\n"
     ]
    }
   ],
   "source": [
    "# Use only the \"prompt\" column for training\n",
    "prompts = df[\"prompt\"].tolist()\n",
    "\n",
    "# Convert text to numeric vectors\n",
    "vectorizer = TfidfVectorizer(stop_words=\"english\")\n",
    "X = vectorizer.fit_transform(prompts)\n",
    "\n",
    "print(\"Shape of TF-IDF Matrix:\", X.shape)"
   ]
  },
  {
   "cell_type": "code",
   "execution_count": 5,
   "id": "73a5e2b6-9d5c-46f7-b5f5-9c2e76f52fee",
   "metadata": {},
   "outputs": [],
   "source": [
    "def suggest_prompt(user_input, top_n=1):\n",
    "    # Convert user input to vector\n",
    "    user_vec = vectorizer.transform([user_input])\n",
    "    \n",
    "    # Compare with dataset\n",
    "    similarities = cosine_similarity(user_vec, X).flatten()\n",
    "    \n",
    "    # Get top N results\n",
    "    top_indices = similarities.argsort()[-top_n:][::-1]\n",
    "    results = [(prompts[i], similarities[i]) for i in top_indices]\n",
    "    \n",
    "    return results"
   ]
  },
  {
   "cell_type": "code",
   "execution_count": 7,
   "id": "0ceab1ed-3bad-43a0-ae36-7e5f3ff9aa7f",
   "metadata": {},
   "outputs": [],
   "source": [
    "import pickle\n",
    "\n",
    "# Save vectorizer and dataset\n",
    "with open(\"vectorizer.pkl\", \"wb\") as f:\n",
    "    pickle.dump(vectorizer, f)\n",
    "\n",
    "df.to_csv(\"combined_prompts.csv\", index=False)"
   ]
  },
  {
   "cell_type": "code",
   "execution_count": null,
   "id": "93462391-eb05-45f4-a578-7ec59b4ce9a8",
   "metadata": {},
   "outputs": [],
   "source": []
  },
  {
   "cell_type": "code",
   "execution_count": null,
   "id": "99de1ca3-215a-455a-93b7-53230faf0df7",
   "metadata": {},
   "outputs": [],
   "source": []
  }
 ],
 "metadata": {
  "kernelspec": {
   "display_name": "Python [conda env:base] *",
   "language": "python",
   "name": "conda-base-py"
  },
  "language_info": {
   "codemirror_mode": {
    "name": "ipython",
    "version": 3
   },
   "file_extension": ".py",
   "mimetype": "text/x-python",
   "name": "python",
   "nbconvert_exporter": "python",
   "pygments_lexer": "ipython3",
   "version": "3.13.5"
  }
 },
 "nbformat": 4,
 "nbformat_minor": 5
}
